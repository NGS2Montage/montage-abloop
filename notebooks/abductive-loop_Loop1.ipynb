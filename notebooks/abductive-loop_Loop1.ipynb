{
 "cells": [
  {
   "cell_type": "markdown",
   "metadata": {},
   "source": [
    "# Abductive Loop - Loop 1\n",
    "\n",
    "## Experiment: Collective Identity and the Group Ultimatum Game (Scope Condition Check)\n",
    "The following report details the analysis for the scope condition check of the group ultimatum game.\n",
    "Here, the scope condition is that the Phase 1 portion of the experiment - the Anagrams game - does in fact produce a measurable level of collective identity in the subjects over random chance. \n",
    "\n",
    "\n",
    "## Date Prepared: 24 November 2017\n",
    "The data informing this abductive loop was collected over the summer/fall 2017.\n",
    "\n",
    "\n",
    "## Exploratory / Confirmatory Experiment\n",
    "There are no pre-existing results that we could directly use to inform priors and build models for this interaction.\n",
    "Therefore, this is an exploratory experiment wherein we are attempting to build parameter estimates for a linear Bayesian model.\n",
    "As part of an exploratory analysis we need to show two items:\n",
    "\n",
    "1. That the models and treatments we have chosen support the testing of the hypothesis.\n",
    "2. That the parameters learned by the model have sufficiently high confidence to be predictive in confirmatory experiments.\n",
    "\n",
    "## Quantifiable Observables\n",
    "\n",
    "In the NGS2 program of which we are a part, collective identity is defined as the choice for resource allocation. Therefore, we have chosen the following measures. The DIFI score, wherein it does not necessarily reflect resource allocation, is meant to serve as supporting evidence for the public goods game contribution.\n",
    "\n",
    "1. DIFI Score (pre-game, post-anagrams if applicable, post-public goods game)\n",
    "2. Public Goods Game Score\n",
    "\n",
    "\n",
    "## Hypothes(i/e)s Tested\n",
    "\n",
    "Because we are in the exploratory phase of the experiment, our hypotheses will be *underspecified* with respect to effect size.\n",
    "Upon transitioning to confirmatory experiments, the effect size will be specified, and it will be captured in the model + parameter joint specification.\n",
    "For exploratory experiments, the effect size is roughly equivalent to specifying parameter estimates.\n",
    "\n",
    "**Note: In the prior loop we investigated the impact of the pre-game DIFI score and found no impactful effect. Found no relation among the variables of group size at the scales tested.**\n",
    "\n",
    "1. Public Goods Game Contributions rise when the Anagrams Game is played vs. when it is not (effect size of rise will be determined by model parameters).\n",
    "\n",
    "    1. Increasing the number of players will have an effect (±) on collective identity in the form of public goods game contributions.\n",
    "    \n",
    "    \n",
    "\n",
    "\n",
    "## Priors Specified\n",
    "\n",
    "No priors are included in the models; objective priors are used throughout the modeling parameter evaluation steps.\n",
    "\n",
    "## Conclusions / Next Steps\n",
    "\n",
    "Unfortunately, the connectivity does not appear to have much of an effect on the contribution level of the public goods game.\n",
    "Next steps determined by desired application: if desire is to instantiate collective identity, then move on to a new experimental procedure.\n",
    "If desire is to establish what went wrong, then it would be to go to the literature to suggest a new procedure - in this case in-person experiments."
   ]
  },
  {
   "cell_type": "markdown",
   "metadata": {},
   "source": [
    "## Abductive Loop - Loop 1"
   ]
  },
  {
   "cell_type": "code",
   "execution_count": 1,
   "metadata": {},
   "outputs": [],
   "source": [
    "import pandas as pd\n",
    "import sys\n",
    "sys.path.append('../src/montage/')\n",
    "\n",
    "from models.LinearBayesian import LinearBayesian\n",
    "from abloop.abloop import Abloop\n",
    "\n",
    "import json\n",
    "\n",
    "import seaborn as sns\n",
    "\n",
    "\n",
    "from matplotlib import pyplot as plt\n",
    "%matplotlib inline"
   ]
  },
  {
   "cell_type": "markdown",
   "metadata": {},
   "source": [
    "## Create New Loop, Import Experiment Data, and List (Observational) Features"
   ]
  },
  {
   "cell_type": "code",
   "execution_count": 2,
   "metadata": {},
   "outputs": [
    {
     "name": "stdout",
     "output_type": "stream",
     "text": [
      "Available Features:\n",
      "    difi_pregame_mean\n",
      "    difi_pregame_var\n",
      "    difi_overlap_pregame_mean\n",
      "    difi_overlap_pregame_var\n",
      "    requestDiversity_mean\n",
      "    requestDiversity_var\n",
      "    participationRate_mean\n",
      "    participationRate_var\n",
      "    correctResponseRate_mean\n",
      "    correctResponseRate_var\n",
      "    letterRequestRate_mean\n",
      "    letterRequestRate_var\n",
      "    difi_linear_postgame_mean\n",
      "    difi_linear_postgame_var\n",
      "    difi_overlap_postgame_mean\n",
      "    difi_overlap_postgame_var\n",
      "    responseTimes_mean\n",
      "    responseTimes_var\n",
      "    pggContribution_mean\n",
      "    pggContribution_var\n"
     ]
    }
   ],
   "source": [
    "loop = Abloop()\n",
    "loop.import_csv('../data/output/grp-by-sessionId.csv', 0)\n",
    "loop.print_features()"
   ]
  },
  {
   "cell_type": "markdown",
   "metadata": {},
   "source": [
    "## Specify Input/Output Variables from Data"
   ]
  },
  {
   "cell_type": "code",
   "execution_count": 3,
   "metadata": {},
   "outputs": [],
   "source": [
    "input_variables = [\n",
    "    'difi_pregame_mean',\n",
    "    'difi_pregame_var',\n",
    "    'difi_overlap_pregame_mean',\n",
    "    'difi_overlap_pregame_var',\n",
    "    'requestDiversity_mean',\n",
    "    'requestDiversity_var',\n",
    "    'participationRate_mean',\n",
    "    'participationRate_var',\n",
    "    'correctResponseRate_mean',\n",
    "    'correctResponseRate_var',\n",
    "    'letterRequestRate_mean',\n",
    "    'letterRequestRate_var',\n",
    "]\n",
    "\n",
    "output_variables = [\n",
    "    'difi_linear_postgame_mean',\n",
    "    'difi_linear_postgame_var',\n",
    "    'difi_overlap_postgame_mean',\n",
    "    'difi_overlap_postgame_var',\n",
    "    'responseTimes_mean',\n",
    "    'responseTimes_var',\n",
    "    'pggContribution_mean',\n",
    "    'pggContribution_var',\n",
    "]\n",
    "\n",
    "loop.set_input_output(input_variables, output_variables)"
   ]
  },
  {
   "cell_type": "markdown",
   "metadata": {},
   "source": [
    "## Load Hypothesis"
   ]
  },
  {
   "cell_type": "code",
   "execution_count": 4,
   "metadata": {},
   "outputs": [],
   "source": [
    "# Hypothesis 1.\n",
    "x = ['difi_pregame_mean', \n",
    "     'difi_pregame_var', \n",
    "     'difi_overlap_pregame_mean', \n",
    "     'difi_overlap_pregame_var']\n",
    "\n",
    "y = ['pggContribution_mean']\n",
    "\n",
    "loop.add_hypothesis(x,y, LinearBayesian())\n",
    "\n",
    "# Hypothesis 2.\n",
    "x = ['requestDiversity_mean',\n",
    "     'requestDiversity_var',]\n",
    "\n",
    "y = ['pggContribution_mean']\n",
    "\n",
    "loop.add_hypothesis(x,y, LinearBayesian())\n",
    "\n",
    "# Hypothesis 3.\n",
    "x = ['participationRate_mean',\n",
    "     'participationRate_var',\n",
    "     'correctResponseRate_mean',\n",
    "     'correctResponseRate_var',\n",
    "     'letterRequestRate_mean',\n",
    "     'letterRequestRate_var',]\n",
    "\n",
    "y = ['pggContribution_mean']\n",
    "\n",
    "loop.add_hypothesis(x,y, LinearBayesian())"
   ]
  },
  {
   "cell_type": "markdown",
   "metadata": {},
   "source": [
    "## Load Treatment File"
   ]
  },
  {
   "cell_type": "code",
   "execution_count": 5,
   "metadata": {},
   "outputs": [],
   "source": [
    "with open('../data/output/treatments.json') as oFile:\n",
    "    treatments = json.load(oFile)\n",
    "    \n",
    "for k,v in treatments.iteritems():\n",
    "    loop.add_treatment(v,label=k)"
   ]
  },
  {
   "cell_type": "markdown",
   "metadata": {},
   "source": [
    "## Plot P(y|T)\n",
    "1. y = public goods game contribution\n",
    "2. T = treatments"
   ]
  },
  {
   "cell_type": "code",
   "execution_count": 6,
   "metadata": {},
   "outputs": [
    {
     "data": {
      "text/plain": [
       "-0.11310680226162141"
      ]
     },
     "execution_count": 6,
     "metadata": {},
     "output_type": "execute_result"
    }
   ],
   "source": [
    "# Effect Sizes\n",
    "loop.estimate_treatment_effect_size(loop.hypotheses[0], 'Anagrams=0', 'Anagrams=1')"
   ]
  },
  {
   "cell_type": "code",
   "execution_count": 7,
   "metadata": {},
   "outputs": [
    {
     "data": {
      "image/png": "[encoded data removed]",
      "text/plain": [
       "<matplotlib.figure.Figure at 0x7f24cdfba490>"
      ]
     },
     "metadata": {},
     "output_type": "display_data"
    }
   ],
   "source": [
    "#loop.plot_treatment_distribution(loop.hypotheses[0],'K=2','K=4','K=8')\n",
    "#loop.plot_treatment_distribution(loop.hypotheses[0],'N=5','N=10','N=20')\n",
    "loop.plot_treatment_distribution(loop.hypotheses[0],['N=5','N=10','N=20'],['Anagrams=0','Anagrams=1'])"
   ]
  },
  {
   "cell_type": "markdown",
   "metadata": {},
   "source": [
    "## Model Parameter Estimates for Each Hypothesis: $P(\\beta, \\sigma | y)$"
   ]
  },
  {
   "cell_type": "code",
   "execution_count": 8,
   "metadata": {},
   "outputs": [
    {
     "name": "stdout",
     "output_type": "stream",
     "text": [
      "Hypothesis 0\n",
      "difi_pregame_mean                       [ 16.05704162]\n",
      "difi_pregame_var                        [ 10.95261]\n",
      "difi_overlap_pregame_mean               [-14.2777663]\n",
      "difi_overlap_pregame_var                [-7.29335421]\n",
      "difi_pregame_mean                       [ 287.1242853]\n",
      "Hypothesis 1\n",
      "requestDiversity_mean                   [ 3.28302414]\n",
      "requestDiversity_var                    [ 5.50700812]\n",
      "requestDiversity_mean                   [ 367.70794408]\n",
      "Hypothesis 2\n",
      "participationRate_mean                  [-6.11927472]\n",
      "participationRate_var                   [ 5.42699574]\n",
      "correctResponseRate_mean                [ 5.44860092]\n",
      "correctResponseRate_var                 [-1.07731534]\n",
      "letterRequestRate_mean                  [-15.85204352]\n",
      "letterRequestRate_var                   [ 10.98667638]\n",
      "participationRate_mean                  [ 333.63432088]\n"
     ]
    }
   ],
   "source": [
    "loop.estimate()\n",
    "loop.print_estimates()"
   ]
  },
  {
   "cell_type": "markdown",
   "metadata": {},
   "source": [
    "## Conduct Validation Study \n",
    "(for this exercise; use training set to show relatively low error - to advance need to show on out-of-sample test)"
   ]
  },
  {
   "cell_type": "code",
   "execution_count": 9,
   "metadata": {},
   "outputs": [],
   "source": [
    "loop.validate()"
   ]
  },
  {
   "cell_type": "code",
   "execution_count": 10,
   "metadata": {},
   "outputs": [],
   "source": [
    "loop.abduce_hypotheses()"
   ]
  },
  {
   "cell_type": "markdown",
   "metadata": {},
   "source": [
    "**Interpretation of Hypothesis Given Error: If given a model with mse error, probability of that error being generated by models in the hypotheses set.**"
   ]
  },
  {
   "cell_type": "code",
   "execution_count": 11,
   "metadata": {},
   "outputs": [
    {
     "data": {
      "image/png": "[encoded data removed]",
      "text/plain": [
       "<matplotlib.figure.Figure at 0x7f24cdf7a9d0>"
      ]
     },
     "metadata": {},
     "output_type": "display_data"
    }
   ],
   "source": [
    "loop.plot_abduce_hypotheses()"
   ]
  },
  {
   "cell_type": "markdown",
   "metadata": {},
   "source": [
    "**Interpretation: Given a set of hypotheses and an experimental platform, what is the likelihood of seeing a given hypothesis/error combination?**"
   ]
  },
  {
   "cell_type": "code",
   "execution_count": 12,
   "metadata": {},
   "outputs": [
    {
     "data": {
      "image/png": "[encoded data removed]",
      "text/plain": [
       "<matplotlib.figure.Figure at 0x7f24cbbfd210>"
      ]
     },
     "metadata": {},
     "output_type": "display_data"
    }
   ],
   "source": [
    "loop.plot_abduce_hypotheses_marginal()"
   ]
  },
  {
   "cell_type": "markdown",
   "metadata": {},
   "source": [
    "## Use Mutual Information to determine the next set of input features with potential."
   ]
  },
  {
   "cell_type": "code",
   "execution_count": 13,
   "metadata": {
    "scrolled": false
   },
   "outputs": [
    {
     "data": {
      "text/plain": [
       "difi_overlap_pregame_var     0.517940\n",
       "difi_overlap_pregame_mean    0.439017\n",
       "difi_pregame_mean            0.438161\n",
       "requestDiversity_var         0.433535\n",
       "requestDiversity_mean        0.402456\n",
       "difi_pregame_var             0.379642\n",
       "letterRequestRate_mean       0.332394\n",
       "correctResponseRate_mean     0.313915\n",
       "letterRequestRate_var        0.281218\n",
       "correctResponseRate_var      0.175206\n",
       "participationRate_var        0.047277\n",
       "participationRate_mean       0.047277\n",
       "Name: pggContribution_mean, dtype: float64"
      ]
     },
     "execution_count": 13,
     "metadata": {},
     "output_type": "execute_result"
    }
   ],
   "source": [
    "loop.abduce_results('pggContribution_mean')"
   ]
  },
  {
   "cell_type": "markdown",
   "metadata": {},
   "source": [
    "# To-do:\n",
    "\n",
    "1. Load Null Hypothesis Automatically\n",
    "2. Have Plots of Histograms (like before)\n",
    "3. Treatments\n",
    "3. Add in n-persons.\n",
    "4. Show difference in MI."
   ]
  },
  {
   "cell_type": "code",
   "execution_count": null,
   "metadata": {},
   "outputs": [],
   "source": []
  }
 ],
 "metadata": {
  "kernelspec": {
   "display_name": "Python 2",
   "language": "python",
   "name": "python2"
  },
  "language_info": {
   "codemirror_mode": {
    "name": "ipython",
    "version": 2
   },
   "file_extension": ".py",
   "mimetype": "text/x-python",
   "name": "python",
   "nbconvert_exporter": "python",
   "pygments_lexer": "ipython2",
   "version": "2.7.12"
  }
 },
 "nbformat": 4,
 "nbformat_minor": 2
}
