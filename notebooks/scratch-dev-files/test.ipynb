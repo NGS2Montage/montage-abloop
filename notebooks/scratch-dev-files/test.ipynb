{
 "cells": [
  {
   "cell_type": "code",
   "execution_count": 26,
   "metadata": {},
   "outputs": [],
   "source": [
    "import numpy as np"
   ]
  },
  {
   "cell_type": "code",
   "execution_count": 1,
   "metadata": {},
   "outputs": [],
   "source": [
    "import pandas as pd\n",
    "import sys\n",
    "sys.path.append('../src/montage/')"
   ]
  },
  {
   "cell_type": "markdown",
   "metadata": {},
   "source": [
    "## Test LinearBayesian"
   ]
  },
  {
   "cell_type": "code",
   "execution_count": 2,
   "metadata": {},
   "outputs": [],
   "source": [
    "from models.LinearBayesian import LinearBayesian"
   ]
  },
  {
   "cell_type": "code",
   "execution_count": 3,
   "metadata": {},
   "outputs": [],
   "source": [
    "model = LinearBayesian()"
   ]
  },
  {
   "cell_type": "code",
   "execution_count": 4,
   "metadata": {},
   "outputs": [],
   "source": [
    "data = pd.read_csv('../data/output/grp-by-sessionId.csv', index_col=0)"
   ]
  },
  {
   "cell_type": "code",
   "execution_count": 5,
   "metadata": {},
   "outputs": [
    {
     "name": "stdout",
     "output_type": "stream",
     "text": [
      "(59, 4) (59, 1)\n"
     ]
    }
   ],
   "source": [
    "test = data[['difi_pregame_mean', 'difi_pregame_var', 'difi_overlap_pregame_mean', 'difi_overlap_pregame_var','pggContribution_mean']].dropna()\n",
    "x = test[['difi_pregame_mean', 'difi_pregame_var', 'difi_overlap_pregame_mean', 'difi_overlap_pregame_var']].as_matrix()\n",
    "y = test[['pggContribution_mean']].as_matrix()\n",
    "print x.shape, y.shape"
   ]
  },
  {
   "cell_type": "code",
   "execution_count": 6,
   "metadata": {},
   "outputs": [
    {
     "data": {
      "text/plain": [
       "{'Bhat': array([[ 16.05704162],\n",
       "        [ 10.95261   ],\n",
       "        [-14.2777663 ],\n",
       "        [ -7.29335421],\n",
       "        [ 52.25230846]]), 's2hat': array([[ 287.1242853]])}"
      ]
     },
     "execution_count": 6,
     "metadata": {},
     "output_type": "execute_result"
    }
   ],
   "source": [
    "model.train(x,y)"
   ]
  },
  {
   "cell_type": "code",
   "execution_count": 7,
   "metadata": {},
   "outputs": [
    {
     "data": {
      "text/plain": [
       "array([[ 424.87069753,  194.66707381,  131.56126151, ..., -247.69556259,\n",
       "        -317.9027347 ,   40.10495332],\n",
       "       [ 441.18023911,  104.30588544,   76.25964542, ..., -161.61233877,\n",
       "         124.10979089,  -83.6539296 ],\n",
       "       [ 301.1579539 ,   62.6122491 ,  -56.16729742, ...,  -98.39706414,\n",
       "        -257.60684061,  -14.83415322],\n",
       "       ..., \n",
       "       [-216.45831916, -259.11694695, -102.92956548, ..., -130.89376412,\n",
       "        -113.20562864, -469.85097175],\n",
       "       [-309.51550223, -271.55805414, -174.22968175, ...,  -97.64739268,\n",
       "          19.95231324,  -49.98577931],\n",
       "       [-376.96080969, -394.67695551,  541.60097572, ...,  -54.23820891,\n",
       "        -138.86303009,  440.38152374]])"
      ]
     },
     "execution_count": 7,
     "metadata": {},
     "output_type": "execute_result"
    }
   ],
   "source": [
    "model.sample(x)"
   ]
  },
  {
   "cell_type": "code",
   "execution_count": 8,
   "metadata": {},
   "outputs": [
    {
     "data": {
      "text/plain": [
       "{'B': array([[ 22.40574265,  12.48438359, -23.91984301,  -9.97132327,\n",
       "          51.70604565],\n",
       "        [ 25.88094665,  17.84983904, -25.3716578 ,  -7.47998311,\n",
       "          54.80099239],\n",
       "        [ 16.1324269 ,  10.10763909, -17.15414148,  -2.60335439,\n",
       "          49.46418423],\n",
       "        ..., \n",
       "        [  6.2499693 ,   4.45831036,  -5.19751457,  -3.76579693,\n",
       "          56.66927102],\n",
       "        [ 16.34851713,  10.51407321, -15.17930296,  -6.21417744,\n",
       "          54.33189759],\n",
       "        [  3.14865041,   7.2245595 ,  -4.68764857,  -5.91488387,\n",
       "          53.69929632]]),\n",
       " 's2': array([ 373.31083204,  371.52954934,  325.37754242, ...,  298.95885075,\n",
       "         206.13192429,  337.41260448])}"
      ]
     },
     "execution_count": 8,
     "metadata": {},
     "output_type": "execute_result"
    }
   ],
   "source": [
    "model.getParameterSample()"
   ]
  },
  {
   "cell_type": "markdown",
   "metadata": {},
   "source": []
  },
  {
   "cell_type": "code",
   "execution_count": null,
   "metadata": {},
   "outputs": [],
   "source": []
  },
  {
   "cell_type": "markdown",
   "metadata": {},
   "source": [
    "## Test of Abductive Loop"
   ]
  },
  {
   "cell_type": "code",
   "execution_count": 1,
   "metadata": {},
   "outputs": [],
   "source": [
    "import pandas as pd\n",
    "import sys\n",
    "sys.path.append('../src/montage/')"
   ]
  },
  {
   "cell_type": "code",
   "execution_count": 2,
   "metadata": {},
   "outputs": [],
   "source": [
    "from models.LinearBayesian import LinearBayesian\n",
    "from abloop.abloop import Abloop"
   ]
  },
  {
   "cell_type": "code",
   "execution_count": 3,
   "metadata": {},
   "outputs": [],
   "source": [
    "loop = Abloop(LinearBayesian())"
   ]
  },
  {
   "cell_type": "code",
   "execution_count": 4,
   "metadata": {},
   "outputs": [],
   "source": [
    "loop.import_csv('../data/output/grp-by-sessionId.csv', 0)"
   ]
  },
  {
   "cell_type": "code",
   "execution_count": 5,
   "metadata": {},
   "outputs": [
    {
     "name": "stdout",
     "output_type": "stream",
     "text": [
      "Available Features:\n",
      "    difi_pregame_mean\n",
      "    difi_pregame_var\n",
      "    difi_overlap_pregame_mean\n",
      "    difi_overlap_pregame_var\n",
      "    requestDiversity_mean\n",
      "    requestDiversity_var\n",
      "    participationRate_mean\n",
      "    participationRate_var\n",
      "    correctResponseRate_mean\n",
      "    correctResponseRate_var\n",
      "    letterRequestRate_mean\n",
      "    letterRequestRate_var\n",
      "    difi_linear_postgame_mean\n",
      "    difi_linear_postgame_var\n",
      "    difi_overlap_postgame_mean\n",
      "    difi_overlap_postgame_var\n",
      "    responseTimes_mean\n",
      "    responseTimes_var\n",
      "    pggContribution_mean\n",
      "    pggContribution_var\n"
     ]
    }
   ],
   "source": [
    "loop.print_features()"
   ]
  },
  {
   "cell_type": "code",
   "execution_count": 6,
   "metadata": {},
   "outputs": [],
   "source": [
    "x = ['difi_pregame_mean', \n",
    "     'difi_pregame_var', \n",
    "     'difi_overlap_pregame_mean', \n",
    "     'difi_overlap_pregame_var']\n",
    "\n",
    "y = ['pggContribution_mean']\n",
    "\n",
    "loop.add_hypothesis(x,y, LinearBayesian())\n",
    "\n",
    "\n",
    "input_variables = [\n",
    "    'difi_pregame_mean',\n",
    "    'difi_pregame_var',\n",
    "    'difi_overlap_pregame_mean',\n",
    "    'difi_overlap_pregame_var',\n",
    "    'requestDiversity_mean',\n",
    "    'requestDiversity_var',\n",
    "    'participationRate_mean',\n",
    "    'participationRate_var',\n",
    "    'correctResponseRate_mean',\n",
    "    'correctResponseRate_var',\n",
    "    'letterRequestRate_mean',\n",
    "    'letterRequestRate_var',\n",
    "]\n",
    "\n",
    "output_variables = [\n",
    "    'difi_linear_postgame_mean',\n",
    "    'difi_linear_postgame_var',\n",
    "    'difi_overlap_postgame_mean',\n",
    "    'difi_overlap_postgame_var',\n",
    "    'responseTimes_mean',\n",
    "    'responseTimes_var',\n",
    "    'pggContribution_mean',\n",
    "    'pggContribution_var',\n",
    "]\n",
    "\n",
    "loop.set_input_output(input_variables, output_variables)"
   ]
  },
  {
   "cell_type": "code",
   "execution_count": 7,
   "metadata": {},
   "outputs": [],
   "source": [
    "loop.estimate()"
   ]
  },
  {
   "cell_type": "code",
   "execution_count": 8,
   "metadata": {},
   "outputs": [
    {
     "name": "stdout",
     "output_type": "stream",
     "text": [
      "Hypothesis 0\n",
      "difi_pregame_mean                       [ 16.05704162]\n",
      "difi_pregame_var                        [ 10.95261]\n",
      "difi_overlap_pregame_mean               [-14.2777663]\n",
      "difi_overlap_pregame_var                [-7.29335421]\n",
      "difi_pregame_mean                       [ 287.1242853]\n"
     ]
    }
   ],
   "source": [
    "loop.print_estimates()"
   ]
  },
  {
   "cell_type": "code",
   "execution_count": 9,
   "metadata": {},
   "outputs": [],
   "source": [
    "loop.validate()"
   ]
  },
  {
   "cell_type": "code",
   "execution_count": 10,
   "metadata": {},
   "outputs": [],
   "source": [
    "loop.abduce_hypotheses()"
   ]
  },
  {
   "cell_type": "code",
   "execution_count": 11,
   "metadata": {
    "scrolled": false
   },
   "outputs": [
    {
     "data": {
      "text/plain": [
       "difi_overlap_pregame_var     0.517940\n",
       "difi_overlap_pregame_mean    0.439017\n",
       "difi_pregame_mean            0.438161\n",
       "requestDiversity_var         0.433535\n",
       "requestDiversity_mean        0.402456\n",
       "difi_pregame_var             0.379642\n",
       "letterRequestRate_mean       0.332394\n",
       "correctResponseRate_mean     0.313915\n",
       "letterRequestRate_var        0.281218\n",
       "correctResponseRate_var      0.175206\n",
       "participationRate_var        0.047277\n",
       "participationRate_mean       0.047277\n",
       "Name: pggContribution_mean, dtype: float64"
      ]
     },
     "execution_count": 11,
     "metadata": {},
     "output_type": "execute_result"
    }
   ],
   "source": [
    "loop.abduce_results('pggContribution_mean')"
   ]
  },
  {
   "cell_type": "code",
   "execution_count": 12,
   "metadata": {},
   "outputs": [
    {
     "ename": "NameError",
     "evalue": "name 'plt' is not defined",
     "output_type": "error",
     "traceback": [
      "\u001b[0;31m---------------------------------------------------------------------------\u001b[0m",
      "\u001b[0;31mNameError\u001b[0m                                 Traceback (most recent call last)",
      "\u001b[0;32m<ipython-input-12-52e6f4c85b9b>\u001b[0m in \u001b[0;36m<module>\u001b[0;34m()\u001b[0m\n\u001b[0;32m----> 1\u001b[0;31m \u001b[0mplt\u001b[0m\u001b[0;34m.\u001b[0m\u001b[0mfigure\u001b[0m\u001b[0;34m(\u001b[0m\u001b[0;34m)\u001b[0m\u001b[0;34m\u001b[0m\u001b[0m\n\u001b[0m\u001b[1;32m      2\u001b[0m \u001b[0m_\u001b[0m \u001b[0;34m=\u001b[0m \u001b[0mplt\u001b[0m\u001b[0;34m.\u001b[0m\u001b[0mhist\u001b[0m\u001b[0;34m(\u001b[0m\u001b[0merr_bar\u001b[0m\u001b[0;34m,\u001b[0m \u001b[0;36m500\u001b[0m\u001b[0;34m,\u001b[0m \u001b[0mnormed\u001b[0m \u001b[0;34m=\u001b[0m \u001b[0mTrue\u001b[0m\u001b[0;34m)\u001b[0m\u001b[0;34m\u001b[0m\u001b[0m\n\u001b[1;32m      3\u001b[0m \u001b[0m_\u001b[0m \u001b[0;34m=\u001b[0m \u001b[0mplt\u001b[0m\u001b[0;34m.\u001b[0m\u001b[0mxlabel\u001b[0m\u001b[0;34m(\u001b[0m\u001b[0;34mr'mse'\u001b[0m\u001b[0;34m,\u001b[0m \u001b[0mfontsize\u001b[0m \u001b[0;34m=\u001b[0m \u001b[0;36m16\u001b[0m\u001b[0;34m)\u001b[0m\u001b[0;34m\u001b[0m\u001b[0m\n\u001b[1;32m      4\u001b[0m \u001b[0m_\u001b[0m \u001b[0;34m=\u001b[0m \u001b[0mplt\u001b[0m\u001b[0;34m.\u001b[0m\u001b[0mylabel\u001b[0m\u001b[0;34m(\u001b[0m\u001b[0;34mr'$P(\\tilde e|h_1)$'\u001b[0m\u001b[0;34m,\u001b[0m \u001b[0mfontsize\u001b[0m \u001b[0;34m=\u001b[0m \u001b[0;36m16\u001b[0m\u001b[0;34m)\u001b[0m\u001b[0;34m\u001b[0m\u001b[0m\n",
      "\u001b[0;31mNameError\u001b[0m: name 'plt' is not defined"
     ]
    }
   ],
   "source": [
    "plt.figure()\n",
    "_ = plt.hist(err_bar, 500, normed = True)\n",
    "_ = plt.xlabel(r'mse', fontsize = 16)\n",
    "_ = plt.ylabel(r'$P(\\tilde e|h_1)$', fontsize = 16)"
   ]
  },
  {
   "cell_type": "code",
   "execution_count": null,
   "metadata": {},
   "outputs": [],
   "source": [
    "# Compute Output\n",
    "y_bar = y.mean()\n",
    "#print y_bar\n",
    "\n",
    "y_sem = sem(np.ravel(y))\n",
    "#print y_sem\n",
    "\n",
    "y_hat_dummy = norm.rvs(loc = y_bar, scale = y_sem, size = 10000)\n",
    "#_ = plt.hist(y_hat_dummy, 300, normed = True)\n",
    "\n",
    "# Convert to Evidence for Hypothesis\n",
    "y_test = y[0]\n",
    "\n",
    "err_samples = multivariate_normal.rvs(mean = np.ravel(y_bar - y), cov=np.eye(y.shape[0]), size = 10000)\n",
    "err_bar = (err_samples**2).mean(axis = 1)\n",
    "dof = len(err_samples)\n",
    "\n",
    "plt.figure()\n",
    "_ = plt.hist(err_bar, 500, normed = True)\n",
    "_ = plt.xlabel(r'mse', fontsize = 16)\n",
    "_ = plt.ylabel(r'$P(\\tilde e|h_0)$', fontsize = 16)\n",
    "\n",
    "loc, scale =  chi2.fit_loc_scale(err_bar, dof)\n",
    "xaxis = np.linspace(250,320,100)\n",
    "plt.plot(xaxis, chi2.pdf(xaxis, dof, loc=loc, scale=scale))\n",
    "\n",
    "h0 = chi2(dof,loc=loc, scale=scale)"
   ]
  }
 ],
 "metadata": {
  "kernelspec": {
   "display_name": "Python 2",
   "language": "python",
   "name": "python2"
  },
  "language_info": {
   "codemirror_mode": {
    "name": "ipython",
    "version": 2
   },
   "file_extension": ".py",
   "mimetype": "text/x-python",
   "name": "python",
   "nbconvert_exporter": "python",
   "pygments_lexer": "ipython2",
   "version": "2.7.12"
  }
 },
 "nbformat": 4,
 "nbformat_minor": 2
}
