{
 "cells": [
  {
   "cell_type": "code",
   "execution_count": 2,
   "metadata": {},
   "outputs": [],
   "source": [
    "import pandas as pd"
   ]
  },
  {
   "cell_type": "code",
   "execution_count": 3,
   "metadata": {},
   "outputs": [],
   "source": [
    "data = pd.read_csv('../data/experiment/2017-10-17/CompletedSessionSummary.csv')"
   ]
  },
  {
   "cell_type": "code",
   "execution_count": 7,
   "metadata": {},
   "outputs": [
    {
     "data": {
      "text/plain": [
       "Index([u'session_code', u'experiment_type', u'n_part_requested',\n",
       "       u'n_part_consented', u'n_part_finished', u'start_time', u'duration',\n",
       "       u'total_cost'],\n",
       "      dtype='object')"
      ]
     },
     "execution_count": 7,
     "metadata": {},
     "output_type": "execute_result"
    }
   ],
   "source": [
    "data = data[(data.total_cost > 0) & (data.duration < 100)]\n",
    "data.columns"
   ]
  },
  {
   "cell_type": "code",
   "execution_count": 11,
   "metadata": {},
   "outputs": [
    {
     "data": {
      "text/plain": [
       "n_part_requested  experiment_type                       \n",
       "5.0               Public Goods Game - IRB.v2                11\n",
       "                  Public Goods Game - IRB.v2 No Anagrams    11\n",
       "10.0              Public Goods Game - IRB.v2                 9\n",
       "                  Public Goods Game - IRB.v2 No Anagrams    10\n",
       "20.0              Public Goods Game - IRB.v2                10\n",
       "                  Public Goods Game - IRB.v2 No Anagrams    10\n",
       "Name: session_code, dtype: int64"
      ]
     },
     "execution_count": 11,
     "metadata": {},
     "output_type": "execute_result"
    }
   ],
   "source": [
    "data.groupby(['n_part_requested', 'experiment_type'])['session_code'].count()"
   ]
  },
  {
   "cell_type": "code",
   "execution_count": null,
   "metadata": {},
   "outputs": [],
   "source": []
  }
 ],
 "metadata": {
  "kernelspec": {
   "display_name": "Python 2",
   "language": "python",
   "name": "python2"
  },
  "language_info": {
   "codemirror_mode": {
    "name": "ipython",
    "version": 2
   },
   "file_extension": ".py",
   "mimetype": "text/x-python",
   "name": "python",
   "nbconvert_exporter": "python",
   "pygments_lexer": "ipython2",
   "version": "2.7.12"
  }
 },
 "nbformat": 4,
 "nbformat_minor": 2
}
